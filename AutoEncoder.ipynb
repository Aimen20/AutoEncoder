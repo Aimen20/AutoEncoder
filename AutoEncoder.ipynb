{
 "cells": [
  {
   "cell_type": "markdown",
   "id": "79648066",
   "metadata": {},
   "source": [
    "### Install Libraries"
   ]
  },
  {
   "cell_type": "code",
   "execution_count": 12,
   "id": "15ee4334",
   "metadata": {},
   "outputs": [],
   "source": [
    "import numpy as np\n",
    "from tensorflow.keras.models import Model\n",
    "from tensorflow.keras.layers import Input, Dense\n",
    "from tensorflow.keras.datasets import fashion_mnist\n",
    "from tensorflow.keras.optimizers import Adam\n",
    "import matplotlib.pyplot as plt"
   ]
  },
  {
   "cell_type": "markdown",
   "id": "32d4a347",
   "metadata": {},
   "source": [
    "### Load Dataset"
   ]
  },
  {
   "cell_type": "code",
   "execution_count": 2,
   "id": "e209e589",
   "metadata": {},
   "outputs": [
    {
     "name": "stdout",
     "output_type": "stream",
     "text": [
      "Downloading data from https://storage.googleapis.com/tensorflow/tf-keras-datasets/train-labels-idx1-ubyte.gz\n",
      "29515/29515 [==============================] - 0s 2us/step\n",
      "Downloading data from https://storage.googleapis.com/tensorflow/tf-keras-datasets/train-images-idx3-ubyte.gz\n",
      "26421880/26421880 [==============================] - 11s 0us/step\n",
      "Downloading data from https://storage.googleapis.com/tensorflow/tf-keras-datasets/t10k-labels-idx1-ubyte.gz\n",
      "5148/5148 [==============================] - 0s 0s/step\n",
      "Downloading data from https://storage.googleapis.com/tensorflow/tf-keras-datasets/t10k-images-idx3-ubyte.gz\n",
      "4422102/4422102 [==============================] - 2s 0us/step\n"
     ]
    }
   ],
   "source": [
    "(x_train,_), (x_test,_) = fashion_mnist.load_data()"
   ]
  },
  {
   "cell_type": "markdown",
   "id": "0b00ded9",
   "metadata": {},
   "source": [
    "View an image"
   ]
  },
  {
   "cell_type": "code",
   "execution_count": 14,
   "id": "658d9e26",
   "metadata": {},
   "outputs": [
    {
     "data": {
      "text/plain": [
       "<matplotlib.image.AxesImage at 0x212bd6657c0>"
      ]
     },
     "execution_count": 14,
     "metadata": {},
     "output_type": "execute_result"
    },
    {
     "data": {
      "image/png": "[encoded data removed]",
      "text/plain": [
       "<Figure size 432x288 with 1 Axes>"
      ]
     },
     "metadata": {
      "needs_background": "light"
     },
     "output_type": "display_data"
    }
   ],
   "source": [
    "plt.imshow(x_train[0],cmap='gray')"
   ]
  },
  {
   "cell_type": "markdown",
   "id": "3fa5ace2",
   "metadata": {},
   "source": [
    "### Normalize the pixel values between (0,1)\n",
    "Current Pixel values lie between (0,255)"
   ]
  },
  {
   "cell_type": "code",
   "execution_count": 17,
   "id": "49c63a53",
   "metadata": {},
   "outputs": [],
   "source": [
    "x_train = x_train/255\n",
    "x_test = x_test/255"
   ]
  },
  {
   "cell_type": "markdown",
   "id": "a4d34935",
   "metadata": {},
   "source": [
    "Check the size of Train and Test Images"
   ]
  },
  {
   "cell_type": "code",
   "execution_count": 20,
   "id": "d80ee4a1",
   "metadata": {},
   "outputs": [
    {
     "name": "stdout",
     "output_type": "stream",
     "text": [
      "(60000, 28, 28)\n",
      "(10000, 28, 28)\n"
     ]
    }
   ],
   "source": [
    "print(x_train.shape)\n",
    "print(x_test.shape)"
   ]
  },
  {
   "cell_type": "markdown",
   "id": "3e917751",
   "metadata": {},
   "source": [
    "60K images in Train and 10K images in Test set. Each image is of size 28 x 28 pixels"
   ]
  },
  {
   "cell_type": "code",
   "execution_count": 21,
   "id": "d8fa8981",
   "metadata": {},
   "outputs": [
    {
     "data": {
      "text/plain": [
       "(28, 28)"
      ]
     },
     "execution_count": 21,
     "metadata": {},
     "output_type": "execute_result"
    }
   ],
   "source": [
    "x_train.shape[1:]"
   ]
  },
  {
   "cell_type": "markdown",
   "id": "4985aee4",
   "metadata": {},
   "source": [
    "### Flatten the images "
   ]
  },
  {
   "cell_type": "code",
   "execution_count": 22,
   "id": "85b01935",
   "metadata": {},
   "outputs": [],
   "source": [
    "x_train = x_train.reshape((len(x_train), np.prod(x_train.shape[1:])))\n",
    "x_test = x_test.reshape((len(x_test), np.prod(x_test.shape[1:])))"
   ]
  },
  {
   "cell_type": "code",
   "execution_count": 23,
   "id": "7ba12312",
   "metadata": {},
   "outputs": [
    {
     "data": {
      "text/plain": [
       "(60000, 784)"
      ]
     },
     "execution_count": 23,
     "metadata": {},
     "output_type": "execute_result"
    }
   ],
   "source": [
    "x_train.shape"
   ]
  },
  {
   "cell_type": "code",
   "execution_count": 64,
   "id": "3d242684",
   "metadata": {},
   "outputs": [],
   "source": [
    "def Create_AutoEncoder(Data, reduced_dim = 20):\n",
    "    \"\"\"\n",
    "    This function creates and returns an Auto Encoder\n",
    "    \n",
    "    Data: Original Data to be encode and Decoded\n",
    "    reduced_dim: Number of Dimensions to reduce from Original Data \n",
    "    Returns: Auto Encoder Model\n",
    "    \n",
    "    \"\"\"\n",
    "#     Input Layer\n",
    "    inputs = Input(shape=(Data.shape[1],))\n",
    "\n",
    "    # Encoder layers\n",
    "    encoded = Dense(128, activation='relu')(inputs)\n",
    "    encoded = Dense(64, activation='relu')(encoded)\n",
    "    encoded = Dense(32, activation='relu')(encoded)\n",
    "#   The original data is encoded to a reduced representation \n",
    "    encoded_output = Dense(reduced_dim, activation='relu')(encoded)\n",
    "\n",
    "    # Decoder layers\n",
    "    decoded = Dense(32, activation='relu')(encoded_output)\n",
    "    decoded = Dense(64, activation='relu')(decoded)\n",
    "    decoded = Dense(128, activation='relu')(decoded)\n",
    "#   The reduced features are scaled back to their original sizes\n",
    "    decoded_output = Dense(Data.shape[1], activation='sigmoid')(decoded)\n",
    "\n",
    "    # Autoencoder model\n",
    "    autoencoder = Model(inputs, decoded_output)\n",
    "    \n",
    "    return autoencoder"
   ]
  },
  {
   "cell_type": "code",
   "execution_count": 59,
   "id": "755b9de0",
   "metadata": {},
   "outputs": [],
   "source": [
    "def Train_AutoEncoder(Train, Test, Model = None, lr = 0.001, batch_size = 256, epochs = 50, shuffle = True):\n",
    "    \"\"\"\n",
    "    This function trains the Auto Encoder\n",
    "    Model: Auto Encoder Model\n",
    "    Train: Train Set\n",
    "    Test: Test Set\n",
    "    lr: Learning Rate\n",
    "    batch_size: Size of batch for each epoch\n",
    "    epochs: Number of Iterations\n",
    "    Shuffle: Boolean Flag of Shuffling training data\n",
    "    \n",
    "    Returns: Trained Auto Encoder Model\n",
    "    \n",
    "    \"\"\"\n",
    "    if Model is None:\n",
    "        raise Exception('No Model Provided')\n",
    "    \n",
    "    Model.compile(optimizer=Adam(learning_rate=lr), loss='binary_crossentropy')\n",
    "    Model.fit(Train, Train,\n",
    "                epochs=epochs,\n",
    "                batch_size=batch_size,\n",
    "                shuffle=shuffle,\n",
    "                validation_data=(Test, Test))\n",
    "    \n",
    "    return Model"
   ]
  },
  {
   "cell_type": "code",
   "execution_count": 60,
   "id": "e873fc5f",
   "metadata": {},
   "outputs": [],
   "source": [
    "def predict(Test, Model = None):\n",
    "    \"\"\"\n",
    "    This function returns the decoded/predicted Image after encoding of given image test set\n",
    "    Model: Trained Auto Encoder Model\n",
    "    Test: Original Test Set\n",
    "    Returns: Decoded Images of Test Set\n",
    "    \n",
    "    \"\"\"\n",
    "    if Model is None:\n",
    "        raise Exception('No Model Provided')\n",
    "        \n",
    "    encoded_imgs = Model.predict(Test)\n",
    "    decoded_imgs = Model.predict(encoded_imgs)\n",
    "    \n",
    "    return decoded_imgs"
   ]
  },
  {
   "cell_type": "code",
   "execution_count": 79,
   "id": "f63bc904",
   "metadata": {},
   "outputs": [],
   "source": [
    "def Display(Test, decoded_imgs, N = 10):\n",
    "    \"\"\"\n",
    "    This function displays Original and Decoded Test Images to see the performance of Decoder\n",
    "    \n",
    "    Test: Originl Test Set\n",
    "    decoded_imgs: Predicted/Decoded Images generated by Decoder\n",
    "    N: Number of Images to display\n",
    "    \n",
    "    \"\"\"\n",
    "    plt.figure(figsize=(20, 4))\n",
    "    \n",
    "    for i in range(N):\n",
    "        # Display original\n",
    "        ax = plt.subplot(2, N, i + 1)\n",
    "        plt.title('Original Image')\n",
    "        plt.imshow(Test[i].reshape(28, 28))\n",
    "        plt.gray()\n",
    "        ax.get_xaxis().set_visible(False)\n",
    "        ax.get_yaxis().set_visible(False)\n",
    "\n",
    "        # Display reconstruction\n",
    "        ax = plt.subplot(2, N, i + 1 + N)\n",
    "        plt.title('Decoded Image')\n",
    "        plt.imshow(decoded_imgs[i].reshape(28, 28))\n",
    "        plt.gray()\n",
    "        ax.get_xaxis().set_visible(False)\n",
    "        ax.get_yaxis().set_visible(False)\n",
    "    plt.show()\n",
    "    "
   ]
  },
  {
   "cell_type": "code",
   "execution_count": 73,
   "id": "6406ae89",
   "metadata": {},
   "outputs": [],
   "source": [
    "# Create Auto Encoder Model\n",
    "AutoEncoder = Create_AutoEncoder(x_train, reduced_dim = 50)"
   ]
  },
  {
   "cell_type": "code",
   "execution_count": 74,
   "id": "b19d732a",
   "metadata": {},
   "outputs": [
    {
     "name": "stdout",
     "output_type": "stream",
     "text": [
      "Epoch 1/100\n",
      "235/235 [==============================] - 3s 9ms/step - loss: 0.3865 - val_loss: 0.3298\n",
      "Epoch 2/100\n",
      "235/235 [==============================] - 2s 8ms/step - loss: 0.3171 - val_loss: 0.3130\n",
      "Epoch 3/100\n",
      "235/235 [==============================] - 2s 8ms/step - loss: 0.3074 - val_loss: 0.3079\n",
      "Epoch 4/100\n",
      "235/235 [==============================] - 2s 9ms/step - loss: 0.3022 - val_loss: 0.3023\n",
      "Epoch 5/100\n",
      "235/235 [==============================] - 2s 8ms/step - loss: 0.2985 - val_loss: 0.2992\n",
      "Epoch 6/100\n",
      "235/235 [==============================] - 2s 8ms/step - loss: 0.2960 - val_loss: 0.2971\n",
      "Epoch 7/100\n",
      "235/235 [==============================] - 2s 8ms/step - loss: 0.2943 - val_loss: 0.2955\n",
      "Epoch 8/100\n",
      "235/235 [==============================] - 2s 7ms/step - loss: 0.2927 - val_loss: 0.2943\n",
      "Epoch 9/100\n",
      "235/235 [==============================] - 2s 8ms/step - loss: 0.2916 - val_loss: 0.2933\n",
      "Epoch 10/100\n",
      "235/235 [==============================] - 2s 10ms/step - loss: 0.2907 - val_loss: 0.2924\n",
      "Epoch 11/100\n",
      "235/235 [==============================] - 2s 10ms/step - loss: 0.2898 - val_loss: 0.2914\n",
      "Epoch 12/100\n",
      "235/235 [==============================] - 2s 10ms/step - loss: 0.2888 - val_loss: 0.2907\n",
      "Epoch 13/100\n",
      "235/235 [==============================] - 2s 9ms/step - loss: 0.2879 - val_loss: 0.2900\n",
      "Epoch 14/100\n",
      "235/235 [==============================] - 2s 9ms/step - loss: 0.2873 - val_loss: 0.2890\n",
      "Epoch 15/100\n",
      "235/235 [==============================] - 2s 10ms/step - loss: 0.2864 - val_loss: 0.2887\n",
      "Epoch 16/100\n",
      "235/235 [==============================] - 2s 9ms/step - loss: 0.2857 - val_loss: 0.2876\n",
      "Epoch 17/100\n",
      "235/235 [==============================] - 2s 9ms/step - loss: 0.2850 - val_loss: 0.2871\n",
      "Epoch 18/100\n",
      "235/235 [==============================] - 2s 9ms/step - loss: 0.2845 - val_loss: 0.2870\n",
      "Epoch 19/100\n",
      "235/235 [==============================] - 2s 9ms/step - loss: 0.2839 - val_loss: 0.2865\n",
      "Epoch 20/100\n",
      "235/235 [==============================] - 2s 9ms/step - loss: 0.2835 - val_loss: 0.2855\n",
      "Epoch 21/100\n",
      "235/235 [==============================] - 2s 10ms/step - loss: 0.2830 - val_loss: 0.2854\n",
      "Epoch 22/100\n",
      "235/235 [==============================] - 2s 9ms/step - loss: 0.2826 - val_loss: 0.2847\n",
      "Epoch 23/100\n",
      "235/235 [==============================] - 2s 10ms/step - loss: 0.2821 - val_loss: 0.2845\n",
      "Epoch 24/100\n",
      "235/235 [==============================] - 2s 9ms/step - loss: 0.2819 - val_loss: 0.2842\n",
      "Epoch 25/100\n",
      "235/235 [==============================] - 2s 9ms/step - loss: 0.2815 - val_loss: 0.2838\n",
      "Epoch 26/100\n",
      "235/235 [==============================] - 2s 9ms/step - loss: 0.2812 - val_loss: 0.2835\n",
      "Epoch 27/100\n",
      "235/235 [==============================] - 2s 10ms/step - loss: 0.2809 - val_loss: 0.2834\n",
      "Epoch 28/100\n",
      "235/235 [==============================] - 2s 9ms/step - loss: 0.2806 - val_loss: 0.2830\n",
      "Epoch 29/100\n",
      "235/235 [==============================] - 2s 10ms/step - loss: 0.2804 - val_loss: 0.2828\n",
      "Epoch 30/100\n",
      "235/235 [==============================] - 2s 10ms/step - loss: 0.2801 - val_loss: 0.2824\n",
      "Epoch 31/100\n",
      "235/235 [==============================] - 2s 10ms/step - loss: 0.2798 - val_loss: 0.2824\n",
      "Epoch 32/100\n",
      "235/235 [==============================] - 2s 10ms/step - loss: 0.2797 - val_loss: 0.2820\n",
      "Epoch 33/100\n",
      "235/235 [==============================] - 2s 10ms/step - loss: 0.2794 - val_loss: 0.2817\n",
      "Epoch 34/100\n",
      "235/235 [==============================] - 2s 10ms/step - loss: 0.2792 - val_loss: 0.2822\n",
      "Epoch 35/100\n",
      "235/235 [==============================] - 2s 9ms/step - loss: 0.2790 - val_loss: 0.2820\n",
      "Epoch 36/100\n",
      "235/235 [==============================] - 2s 10ms/step - loss: 0.2788 - val_loss: 0.2813\n",
      "Epoch 37/100\n",
      "235/235 [==============================] - 2s 10ms/step - loss: 0.2786 - val_loss: 0.2812\n",
      "Epoch 38/100\n",
      "235/235 [==============================] - 2s 10ms/step - loss: 0.2784 - val_loss: 0.2809\n",
      "Epoch 39/100\n",
      "235/235 [==============================] - 2s 10ms/step - loss: 0.2783 - val_loss: 0.2808\n",
      "Epoch 40/100\n",
      "235/235 [==============================] - 2s 9ms/step - loss: 0.2781 - val_loss: 0.2808\n",
      "Epoch 41/100\n",
      "235/235 [==============================] - 2s 9ms/step - loss: 0.2780 - val_loss: 0.2809\n",
      "Epoch 42/100\n",
      "235/235 [==============================] - 2s 9ms/step - loss: 0.2779 - val_loss: 0.2803\n",
      "Epoch 43/100\n",
      "235/235 [==============================] - 2s 10ms/step - loss: 0.2776 - val_loss: 0.2801\n",
      "Epoch 44/100\n",
      "235/235 [==============================] - 2s 9ms/step - loss: 0.2775 - val_loss: 0.2800\n",
      "Epoch 45/100\n",
      "235/235 [==============================] - 2s 9ms/step - loss: 0.2773 - val_loss: 0.2804\n",
      "Epoch 46/100\n",
      "235/235 [==============================] - 2s 10ms/step - loss: 0.2772 - val_loss: 0.2799\n",
      "Epoch 47/100\n",
      "235/235 [==============================] - 2s 10ms/step - loss: 0.2771 - val_loss: 0.2797\n",
      "Epoch 48/100\n",
      "235/235 [==============================] - 2s 9ms/step - loss: 0.2769 - val_loss: 0.2796\n",
      "Epoch 49/100\n",
      "235/235 [==============================] - 2s 10ms/step - loss: 0.2768 - val_loss: 0.2794\n",
      "Epoch 50/100\n",
      "235/235 [==============================] - 2s 10ms/step - loss: 0.2767 - val_loss: 0.2792\n",
      "Epoch 51/100\n",
      "235/235 [==============================] - 2s 9ms/step - loss: 0.2765 - val_loss: 0.2796\n",
      "Epoch 52/100\n",
      "235/235 [==============================] - 2s 10ms/step - loss: 0.2765 - val_loss: 0.2791\n",
      "Epoch 53/100\n",
      "235/235 [==============================] - 2s 9ms/step - loss: 0.2763 - val_loss: 0.2789\n",
      "Epoch 54/100\n",
      "235/235 [==============================] - 2s 10ms/step - loss: 0.2761 - val_loss: 0.2789\n",
      "Epoch 55/100\n",
      "235/235 [==============================] - 2s 9ms/step - loss: 0.2760 - val_loss: 0.2788\n",
      "Epoch 56/100\n",
      "235/235 [==============================] - 2s 9ms/step - loss: 0.2760 - val_loss: 0.2786\n",
      "Epoch 57/100\n",
      "235/235 [==============================] - 2s 9ms/step - loss: 0.2758 - val_loss: 0.2785\n",
      "Epoch 58/100\n",
      "235/235 [==============================] - 2s 9ms/step - loss: 0.2758 - val_loss: 0.2787\n",
      "Epoch 59/100\n",
      "235/235 [==============================] - 2s 9ms/step - loss: 0.2757 - val_loss: 0.2786\n",
      "Epoch 60/100\n",
      "235/235 [==============================] - 2s 9ms/step - loss: 0.2756 - val_loss: 0.2780\n",
      "Epoch 61/100\n",
      "235/235 [==============================] - 2s 9ms/step - loss: 0.2755 - val_loss: 0.2781\n",
      "Epoch 62/100\n",
      "235/235 [==============================] - 2s 9ms/step - loss: 0.2754 - val_loss: 0.2786\n",
      "Epoch 63/100\n",
      "235/235 [==============================] - 2s 9ms/step - loss: 0.2753 - val_loss: 0.2785\n",
      "Epoch 64/100\n",
      "235/235 [==============================] - 2s 9ms/step - loss: 0.2753 - val_loss: 0.2778\n",
      "Epoch 65/100\n",
      "235/235 [==============================] - 2s 9ms/step - loss: 0.2751 - val_loss: 0.2779\n",
      "Epoch 66/100\n",
      "235/235 [==============================] - 2s 9ms/step - loss: 0.2751 - val_loss: 0.2779\n",
      "Epoch 67/100\n",
      "235/235 [==============================] - 2s 9ms/step - loss: 0.2750 - val_loss: 0.2777\n",
      "Epoch 68/100\n",
      "235/235 [==============================] - 2s 9ms/step - loss: 0.2749 - val_loss: 0.2777\n",
      "Epoch 69/100\n",
      "235/235 [==============================] - 2s 9ms/step - loss: 0.2748 - val_loss: 0.2778\n",
      "Epoch 70/100\n",
      "235/235 [==============================] - 2s 9ms/step - loss: 0.2748 - val_loss: 0.2775\n",
      "Epoch 71/100\n",
      "235/235 [==============================] - 2s 9ms/step - loss: 0.2747 - val_loss: 0.2774\n",
      "Epoch 72/100\n",
      "235/235 [==============================] - 2s 10ms/step - loss: 0.2746 - val_loss: 0.2773\n",
      "Epoch 73/100\n",
      "235/235 [==============================] - 2s 10ms/step - loss: 0.2745 - val_loss: 0.2772\n",
      "Epoch 74/100\n",
      "235/235 [==============================] - 2s 10ms/step - loss: 0.2745 - val_loss: 0.2770\n",
      "Epoch 75/100\n",
      "235/235 [==============================] - 2s 10ms/step - loss: 0.2743 - val_loss: 0.2780\n",
      "Epoch 76/100\n",
      "235/235 [==============================] - 2s 10ms/step - loss: 0.2744 - val_loss: 0.2770\n",
      "Epoch 77/100\n",
      "235/235 [==============================] - 2s 9ms/step - loss: 0.2743 - val_loss: 0.2769\n",
      "Epoch 78/100\n",
      "235/235 [==============================] - 2s 9ms/step - loss: 0.2742 - val_loss: 0.2769\n",
      "Epoch 79/100\n",
      "235/235 [==============================] - 2s 9ms/step - loss: 0.2742 - val_loss: 0.2773\n",
      "Epoch 80/100\n",
      "235/235 [==============================] - 2s 9ms/step - loss: 0.2741 - val_loss: 0.2769\n",
      "Epoch 81/100\n"
     ]
    },
    {
     "name": "stdout",
     "output_type": "stream",
     "text": [
      "235/235 [==============================] - 2s 10ms/step - loss: 0.2740 - val_loss: 0.2767\n",
      "Epoch 82/100\n",
      "235/235 [==============================] - 2s 9ms/step - loss: 0.2740 - val_loss: 0.2774\n",
      "Epoch 83/100\n",
      "235/235 [==============================] - 2s 10ms/step - loss: 0.2739 - val_loss: 0.2770\n",
      "Epoch 84/100\n",
      "235/235 [==============================] - 2s 10ms/step - loss: 0.2739 - val_loss: 0.2765\n",
      "Epoch 85/100\n",
      "235/235 [==============================] - 2s 9ms/step - loss: 0.2737 - val_loss: 0.2764\n",
      "Epoch 86/100\n",
      "235/235 [==============================] - 2s 10ms/step - loss: 0.2736 - val_loss: 0.2764\n",
      "Epoch 87/100\n",
      "235/235 [==============================] - 2s 9ms/step - loss: 0.2736 - val_loss: 0.2764\n",
      "Epoch 88/100\n",
      "235/235 [==============================] - 2s 10ms/step - loss: 0.2736 - val_loss: 0.2765\n",
      "Epoch 89/100\n",
      "235/235 [==============================] - 2s 10ms/step - loss: 0.2735 - val_loss: 0.2762\n",
      "Epoch 90/100\n",
      "235/235 [==============================] - 2s 10ms/step - loss: 0.2735 - val_loss: 0.2762\n",
      "Epoch 91/100\n",
      "235/235 [==============================] - 2s 9ms/step - loss: 0.2734 - val_loss: 0.2762\n",
      "Epoch 92/100\n",
      "235/235 [==============================] - 2s 9ms/step - loss: 0.2734 - val_loss: 0.2762\n",
      "Epoch 93/100\n",
      "235/235 [==============================] - 2s 10ms/step - loss: 0.2733 - val_loss: 0.2763\n",
      "Epoch 94/100\n",
      "235/235 [==============================] - 2s 9ms/step - loss: 0.2733 - val_loss: 0.2761\n",
      "Epoch 95/100\n",
      "235/235 [==============================] - 2s 9ms/step - loss: 0.2732 - val_loss: 0.2759\n",
      "Epoch 96/100\n",
      "235/235 [==============================] - 2s 9ms/step - loss: 0.2732 - val_loss: 0.2760\n",
      "Epoch 97/100\n",
      "235/235 [==============================] - 2s 10ms/step - loss: 0.2731 - val_loss: 0.2759\n",
      "Epoch 98/100\n",
      "235/235 [==============================] - 2s 10ms/step - loss: 0.2730 - val_loss: 0.2760\n",
      "Epoch 99/100\n",
      "235/235 [==============================] - 2s 10ms/step - loss: 0.2730 - val_loss: 0.2760\n",
      "Epoch 100/100\n",
      "235/235 [==============================] - 2s 10ms/step - loss: 0.2729 - val_loss: 0.2760\n"
     ]
    }
   ],
   "source": [
    "# Train the model\n",
    "Trained_Model = Train_AutoEncoder(x_train, x_test, Model = AutoEncoder, lr = 0.001, batch_size = 256, epochs = 100, shuffle = True)"
   ]
  },
  {
   "cell_type": "code",
   "execution_count": 75,
   "id": "fdf5dbd3",
   "metadata": {},
   "outputs": [
    {
     "name": "stdout",
     "output_type": "stream",
     "text": [
      "313/313 [==============================] - 1s 2ms/step\n",
      "313/313 [==============================] - 1s 3ms/step\n"
     ]
    }
   ],
   "source": [
    "# Predict \n",
    "decoded_imgs = predict(x_test, Model = Trained_Model)"
   ]
  },
  {
   "cell_type": "code",
   "execution_count": 80,
   "id": "d3846e6b",
   "metadata": {},
   "outputs": [
    {
     "data": {
      "image/png": "[encoded data removed]",
      "text/plain": [
       "<Figure size 1440x288 with 20 Axes>"
      ]
     },
     "metadata": {
      "needs_background": "light"
     },
     "output_type": "display_data"
    }
   ],
   "source": [
    "# Display the Decoded Images\n",
    "Display(x_test, decoded_imgs, N = 10)"
   ]
  },
  {
   "cell_type": "code",
   "execution_count": null,
   "id": "5e78e2e4",
   "metadata": {},
   "outputs": [],
   "source": []
  }
 ],
 "metadata": {
  "kernelspec": {
   "display_name": "Python 3 (ipykernel)",
   "language": "python",
   "name": "python3"
  },
  "language_info": {
   "codemirror_mode": {
    "name": "ipython",
    "version": 3
   },
   "file_extension": ".py",
   "mimetype": "text/x-python",
   "name": "python",
   "nbconvert_exporter": "python",
   "pygments_lexer": "ipython3",
   "version": "3.9.12"
  }
 },
 "nbformat": 4,
 "nbformat_minor": 5
}
